{
 "cells": [
  {
   "cell_type": "markdown",
   "metadata": {},
   "source": [
    "MS Excel'den veri alma"
   ]
  },
  {
   "cell_type": "code",
   "execution_count": 1,
   "metadata": {},
   "outputs": [
    {
     "name": "stdout",
     "output_type": "stream",
     "text": [
      "    Yil  Tarim  Sanayi  TarimStd  SanayiStd\n",
      "0  2014     20      25         2          3\n",
      "1  2015     35      32         3          6\n",
      "2  2016     40      34         4          1\n",
      "3  2017     30      20         5          2\n",
      "4  2018     50      25         4          4\n"
     ]
    },
    {
     "data": {
      "text/html": [
       "<div>\n",
       "<style scoped>\n",
       "    .dataframe tbody tr th:only-of-type {\n",
       "        vertical-align: middle;\n",
       "    }\n",
       "\n",
       "    .dataframe tbody tr th {\n",
       "        vertical-align: top;\n",
       "    }\n",
       "\n",
       "    .dataframe thead th {\n",
       "        text-align: right;\n",
       "    }\n",
       "</style>\n",
       "<table border=\"1\" class=\"dataframe\">\n",
       "  <thead>\n",
       "    <tr style=\"text-align: right;\">\n",
       "      <th></th>\n",
       "      <th>Yil</th>\n",
       "      <th>Tarim</th>\n",
       "      <th>Sanayi</th>\n",
       "      <th>TarimStd</th>\n",
       "      <th>SanayiStd</th>\n",
       "    </tr>\n",
       "  </thead>\n",
       "  <tbody>\n",
       "    <tr>\n",
       "      <th>0</th>\n",
       "      <td>2014</td>\n",
       "      <td>20</td>\n",
       "      <td>25</td>\n",
       "      <td>2</td>\n",
       "      <td>3</td>\n",
       "    </tr>\n",
       "    <tr>\n",
       "      <th>1</th>\n",
       "      <td>2015</td>\n",
       "      <td>35</td>\n",
       "      <td>32</td>\n",
       "      <td>3</td>\n",
       "      <td>6</td>\n",
       "    </tr>\n",
       "    <tr>\n",
       "      <th>2</th>\n",
       "      <td>2016</td>\n",
       "      <td>40</td>\n",
       "      <td>34</td>\n",
       "      <td>4</td>\n",
       "      <td>1</td>\n",
       "    </tr>\n",
       "    <tr>\n",
       "      <th>3</th>\n",
       "      <td>2017</td>\n",
       "      <td>30</td>\n",
       "      <td>20</td>\n",
       "      <td>5</td>\n",
       "      <td>2</td>\n",
       "    </tr>\n",
       "    <tr>\n",
       "      <th>4</th>\n",
       "      <td>2018</td>\n",
       "      <td>50</td>\n",
       "      <td>25</td>\n",
       "      <td>4</td>\n",
       "      <td>4</td>\n",
       "    </tr>\n",
       "  </tbody>\n",
       "</table>\n",
       "</div>"
      ],
      "text/plain": [
       "    Yil  Tarim  Sanayi  TarimStd  SanayiStd\n",
       "0  2014     20      25         2          3\n",
       "1  2015     35      32         3          6\n",
       "2  2016     40      34         4          1\n",
       "3  2017     30      20         5          2\n",
       "4  2018     50      25         4          4"
      ]
     },
     "execution_count": 1,
     "metadata": {},
     "output_type": "execute_result"
    }
   ],
   "source": [
    "import pandas as pd \n",
    "\n",
    "klasor = \"C://My Documents\"\n",
    "dosya = \"TarimSanayi.xlsx\"\n",
    "\n",
    "df = pd.read_excel(dosya) # excel dosyasini dataframe olarak aldik\n",
    "print(df)\n",
    "df\n"
   ]
  },
  {
   "cell_type": "code",
   "execution_count": 2,
   "metadata": {},
   "outputs": [
    {
     "data": {
      "text/plain": [
       "(5, 5)"
      ]
     },
     "execution_count": 2,
     "metadata": {},
     "output_type": "execute_result"
    }
   ],
   "source": [
    "df.shape    # 5 satir 5 sutun varmis bize satir bilgisi lazim."
   ]
  },
  {
   "cell_type": "code",
   "execution_count": 3,
   "metadata": {},
   "outputs": [],
   "source": [
    "N = df.shape[0]"
   ]
  },
  {
   "cell_type": "code",
   "execution_count": null,
   "metadata": {},
   "outputs": [],
   "source": []
  },
  {
   "cell_type": "code",
   "execution_count": 4,
   "metadata": {},
   "outputs": [],
   "source": [
    "tarimOrt = df.Tarim\n",
    "sanayiOrt = df.Sanayi\n",
    "tarimStd = df.TarimStd\n",
    "sanayiStd = df.SanayiStd"
   ]
  },
  {
   "cell_type": "code",
   "execution_count": 5,
   "metadata": {},
   "outputs": [
    {
     "name": "stdout",
     "output_type": "stream",
     "text": [
      "[0 1 2 3 4]\n"
     ]
    },
    {
     "data": {
      "image/png": "[encoded data removed]",
      "text/plain": [
       "<Figure size 432x288 with 1 Axes>"
      ]
     },
     "metadata": {
      "needs_background": "light"
     },
     "output_type": "display_data"
    }
   ],
   "source": [
    "import matplotlib\n",
    "import matplotlib.pyplot as plt\n",
    "import numpy as np\n",
    "\n",
    "#N = 5       EXCEL DEN ALDIK\n",
    "#tarimOrt = (20, 35, 30, 35, 27)\n",
    "#sanayiOrt = (25, 32, 34, 20, 25)\n",
    "#tarimStd = (2, 3, 6, 1, 2)\n",
    "#sanayiStd = (3, 6, 1, 3, 3)\n",
    "\n",
    "ind = np.arange(N)    # 0 dan 4 e kadar sayi dizisi (5 elemanlı)\n",
    "print(ind)\n",
    "genislik = 0.35       # çubuklarımızın uzunluğu\n",
    "\n",
    "p1 = plt.bar(ind, tarimOrt, genislik, yerr=tarimStd)\n",
    "p2 = plt.bar(ind, sanayiOrt, genislik,bottom=tarimOrt, yerr=sanayiStd)\n",
    "\n",
    "plt.ylabel('Gelir (M TL)')\n",
    "plt.title('Sektore Gore Yil Bazinda Ortalama Gelirler')\n",
    "plt.xticks(ind, df.Yil)     # ('2014', '2015', '2016', '2017', '2018')\n",
    "plt.yticks(np.arange(0, 80+1, 10))\n",
    "plt.legend((p1[0], p2[0]), ('Tarim', 'Sanayi'))\n",
    "\n",
    "plt.show()"
   ]
  },
  {
   "cell_type": "markdown",
   "metadata": {},
   "source": [
    "Size direnmesi durumunda bu linke de goz atin: Sutun basliklarini var veya yok sayma, verilerin turlerini metin veya sayisallastirma gibi konularda yardimci olur. https://www.geeksforgeeks.org/how-to-import-an-excel-file-into-python-using-pandas/"
   ]
  },
  {
   "cell_type": "code",
   "execution_count": 6,
   "metadata": {},
   "outputs": [],
   "source": [
    "import numpy as np\n",
    "import matplotlib.pyplot as plt\n"
   ]
  },
  {
   "cell_type": "markdown",
   "metadata": {},
   "source": [
    "# Veri Görselleme 2"
   ]
  },
  {
   "cell_type": "markdown",
   "metadata": {},
   "source": [
    "## Çubuk Garfikler"
   ]
  },
  {
   "cell_type": "markdown",
   "metadata": {},
   "source": [
    "## Histogramlar\n",
    "\n",
    "Elimizdeki sayısal verinin dağılımını görsellemek için çubuk grafik (Histogram) uygun tekniklerden biridir.\n",
    "\n",
    "Veriler teker teker değerlendirilip belirli 'sepet' lere yerleştirilirler. Sürecin sonunda hangi sepette kaç adet eleman olduğu sayılır."
   ]
  },
  {
   "attachments": {
    "zeytinbins.jpg": {
     "image/jpeg": "[encoded data removed]"
    }
   },
   "cell_type": "markdown",
   "metadata": {},
   "source": [
    "![zeytinbins.jpg](attachment:zeytinbins.jpg)"
   ]
  },
  {
   "cell_type": "code",
   "execution_count": 7,
   "metadata": {},
   "outputs": [],
   "source": [
    "import numpy as np\n",
    "import matplotlib.mlab as mlab\n",
    "import matplotlib.pyplot as plt\n",
    " "
   ]
  },
  {
   "cell_type": "code",
   "execution_count": 8,
   "metadata": {},
   "outputs": [
    {
     "name": "stdout",
     "output_type": "stream",
     "text": [
      "[3.92982218e-05 3.92982218e-05 3.92982218e-05 3.92982218e-05\n",
      " 7.85964436e-05 3.92982218e-04 5.10876883e-04 6.68069771e-04\n",
      " 1.02175377e-03 1.13964843e-03 2.35789331e-03 3.06526130e-03\n",
      " 4.20490973e-03 6.01262794e-03 7.15227637e-03 1.13571861e-02\n",
      " 1.29291150e-02 1.68589372e-02 1.83522696e-02 2.07494611e-02\n",
      " 2.39326171e-02 2.47578797e-02 2.73515624e-02 2.53473531e-02\n",
      " 2.66441944e-02 2.57010371e-02 2.27929686e-02 2.27536704e-02\n",
      " 1.84308660e-02 1.65052532e-02 1.28112203e-02 1.13571861e-02\n",
      " 7.74174970e-03 6.09122438e-03 4.51929551e-03 3.14385774e-03\n",
      " 2.04350753e-03 1.37543776e-03 9.82455545e-04 8.25262658e-04\n",
      " 2.35789331e-04 1.96491109e-04 1.17894665e-04 1.57192887e-04\n",
      " 0.00000000e+00 3.92982218e-05 7.85964436e-05 0.00000000e+00\n",
      " 0.00000000e+00 3.92982218e-05]\n",
      "---\n",
      "[ 40.16139605  42.70604045  45.25068485  47.79532925  50.33997365\n",
      "  52.88461804  55.42926244  57.97390684  60.51855124  63.06319564\n",
      "  65.60784004  68.15248444  70.69712884  73.24177324  75.78641764\n",
      "  78.33106203  80.87570643  83.42035083  85.96499523  88.50963963\n",
      "  91.05428403  93.59892843  96.14357283  98.68821723 101.23286162\n",
      " 103.77750602 106.32215042 108.86679482 111.41143922 113.95608362\n",
      " 116.50072802 119.04537242 121.59001682 124.13466122 126.67930561\n",
      " 129.22395001 131.76859441 134.31323881 136.85788321 139.40252761\n",
      " 141.94717201 144.49181641 147.03646081 149.5811052  152.1257496\n",
      " 154.670394   157.2150384  159.7596828  162.3043272  164.8489716\n",
      " 167.393616  ]\n",
      "---\n",
      "<a list of 50 Patch objects>\n",
      "---\n",
      "Rectangle(xy=(42.706, 0), width=2.54464, height=3.92982e-05, angle=0)\n"
     ]
    },
    {
     "data": {
      "image/png": "[encoded data removed]",
      "text/plain": [
       "<Figure size 432x288 with 1 Axes>"
      ]
     },
     "metadata": {
      "needs_background": "light"
     },
     "output_type": "display_data"
    }
   ],
   "source": [
    "\n",
    "# Verimizi üretelim\n",
    "mu = 100 # verimizin ortalaması\n",
    "sigma = 15 # standart sapması\n",
    "x = mu + sigma * np.random.randn(10000)\n",
    "\n",
    "num_bins = 50\n",
    "# verimizin histogrami\n",
    "n, bins, patches = plt.hist(x, num_bins, density=1, facecolor='blue', alpha=0.5)\n",
    "\n",
    "print(n)\n",
    "print(\"---\")\n",
    "print(bins)\n",
    "print(\"---\")\n",
    "print(patches)\n",
    "print(\"---\")\n",
    "print(patches[1])\n",
    "\n",
    "plt.xlabel('Zeka')\n",
    "plt.ylabel('Olasılık')\n",
    "plt.title(r'IQ Histogramı: $\\omega=100$, $\\sigma=15$')\n",
    " \n",
    "# Sola yapismaya mani olmak icin eklenebilir\n",
    "#plt.subplots_adjust(left=0.15, top = 0.9)\n",
    "plt.show()"
   ]
  },
  {
   "cell_type": "markdown",
   "metadata": {},
   "source": [
    "https://matplotlib.org/api/_as_gen/matplotlib.pyplot.subplots_adjust.html"
   ]
  },
  {
   "cell_type": "markdown",
   "metadata": {},
   "source": [
    "## Dilim Grafikler"
   ]
  },
  {
   "cell_type": "code",
   "execution_count": 9,
   "metadata": {},
   "outputs": [
    {
     "data": {
      "image/png": "[encoded data removed]",
      "text/plain": [
       "<Figure size 432x288 with 1 Axes>"
      ]
     },
     "metadata": {},
     "output_type": "display_data"
    }
   ],
   "source": [
    "import matplotlib.pyplot as plt\n",
    "\n",
    "# Saat yönünün tersine çizilen dilim garfik:\n",
    "labels = 'Diğer', 'Alışveriş', 'Akaryakıt', 'Hobi/Eğlence'\n",
    "sizes = [15, 30, 45, 10]\n",
    "explode = (0.1, 0.7, 0.2, 0)  # sadece istediğimiz dilimleri ayırabiliriz\n",
    "\n",
    "fig1, ax1 = plt.subplots()\n",
    "ax1.pie(sizes, explode=explode, labels=labels, autopct='%1.1f%%',\n",
    "        shadow=True, startangle=90)\n",
    "#ax1.axis('equal')  # Dairenin yuvarlak çıkmasını sağlar.\n",
    "\n",
    "plt.show()\n"
   ]
  },
  {
   "cell_type": "code",
   "execution_count": null,
   "metadata": {},
   "outputs": [],
   "source": []
  },
  {
   "cell_type": "code",
   "execution_count": null,
   "metadata": {},
   "outputs": [],
   "source": []
  },
  {
   "cell_type": "markdown",
   "metadata": {},
   "source": [
    "http://detexify.kirelabs.org/classify.html"
   ]
  },
  {
   "cell_type": "code",
   "execution_count": null,
   "metadata": {},
   "outputs": [],
   "source": []
  },
  {
   "cell_type": "code",
   "execution_count": null,
   "metadata": {},
   "outputs": [],
   "source": []
  },
  {
   "cell_type": "code",
   "execution_count": null,
   "metadata": {},
   "outputs": [],
   "source": []
  },
  {
   "cell_type": "code",
   "execution_count": null,
   "metadata": {},
   "outputs": [],
   "source": []
  }
 ],
 "metadata": {
  "kernelspec": {
   "display_name": "Python 3",
   "language": "python",
   "name": "python3"
  },
  "language_info": {
   "codemirror_mode": {
    "name": "ipython",
    "version": 3
   },
   "file_extension": ".py",
   "mimetype": "text/x-python",
   "name": "python",
   "nbconvert_exporter": "python",
   "pygments_lexer": "ipython3",
   "version": "3.7.3"
  }
 },
 "nbformat": 4,
 "nbformat_minor": 2
}
