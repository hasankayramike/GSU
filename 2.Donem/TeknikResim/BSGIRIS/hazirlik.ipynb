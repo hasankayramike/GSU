{
 "cells": [
  {
   "cell_type": "code",
   "execution_count": 19,
   "metadata": {},
   "outputs": [],
   "source": [
    "import sympy as sym\n",
    "x = sym.Symbol(\"x\")\n",
    "y = sym.Symbol(\"y\")\n",
    "z = sym.Symbol(\"z\")\n",
    "lx = sym.Symbol(\"l_x\")\n",
    "ly = sym.Symbol(\"l_y\")\n",
    "lz = sym.Symbol(\"l_z\")\n",
    "q1 = sym.Symbol(\"q_1\")\n",
    "q2 = sym.Symbol(\"q_2\")\n",
    "q3 = sym.Symbol(\"q_3\")"
   ]
  },
  {
   "cell_type": "code",
   "execution_count": 22,
   "metadata": {},
   "outputs": [
    {
     "data": {
      "text/latex": [
       "$\\displaystyle x = -0.631228211794798$"
      ],
      "text/plain": [
       "Eq(x, -0.631228211794798)"
      ]
     },
     "execution_count": 22,
     "metadata": {},
     "output_type": "execute_result"
    }
   ],
   "source": [
    "x_denklem = sym.Eq(x, lx*sym.cos(q1) + ly*sym.cos(q1 + q2) + lz*sym.cos(q1 + q2 + q3))\n",
    "y_denklem = sym.Eq(y, lx*sym.sin(q1) + ly*sym.sin(q1 + q2) + lz*sym.sin(q1 + q2 + q3))\n",
    "x_denklem = x_denklem.subs([(q1, 15), (q2, 20), (q3, 30), (lx, 0.4), (ly, 0.3), (lz, 0.1)])\n",
    "y_denklem = y_denklem.subs([(q1, 15), (q2, 20), (q3, 30), (lx, 0.4), (ly, 0.3), (lz, 0.1)])\n",
    "x_denklem.evalf()\n"
   ]
  },
  {
   "cell_type": "code",
   "execution_count": 25,
   "metadata": {},
   "outputs": [
    {
     "data": {
      "text/plain": [
       "[0.872596715141851, 1.15044407846123]"
      ]
     },
     "execution_count": 25,
     "metadata": {},
     "output_type": "execute_result"
    }
   ],
   "source": [
    "x_denklem = sym.Eq(x, lx*sym.cos(q1) + ly*sym.cos(q1 + q2) + lz*sym.cos(q1 + q2 + q3))\n",
    "y_denklem = sym.Eq(y, lx*sym.sin(q1) + ly*sym.sin(q1 + q2) + lz*sym.sin(q1 + q2 + q3))\n",
    "x_denklem = x_denklem.subs([(x, -0.631228211794798), (lx, 0.4), (ly, 0.3), (lz, 0.1), (q1, 15), (q3, 30)])\n",
    "y_denklem = y_denklem.subs([(y, 0.214343203163012), (lx, 0.4), (ly, 0.3), (lz, 0.1), (q1, 15), (q3, 30)])\n",
    "sym.solve(x_denklem, q2)\n"
   ]
  }
 ],
 "metadata": {
  "interpreter": {
   "hash": "77070ef57830cc4ce7cbccc4a79820b522e408b8d7a90019c8131d5f784037fe"
  },
  "kernelspec": {
   "display_name": "Python 3.9.13 64-bit",
   "language": "python",
   "name": "python3"
  },
  "language_info": {
   "codemirror_mode": {
    "name": "ipython",
    "version": 3
   },
   "file_extension": ".py",
   "mimetype": "text/x-python",
   "name": "python",
   "nbconvert_exporter": "python",
   "pygments_lexer": "ipython3",
   "version": "3.9.13"
  },
  "orig_nbformat": 4
 },
 "nbformat": 4,
 "nbformat_minor": 2
}
